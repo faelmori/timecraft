{
 "cells": [
  {
   "cell_type": "raw",
   "id": "bd1344806ff1b9a6",
   "metadata": {},
   "source": [
    "from datetime import datetime\n"
   ]
  },
  {
   "cell_type": "code",
   "execution_count": null,
   "id": "c7614231548b7946",
   "metadata": {},
   "outputs": [],
   "source": [
    "import pandas as pd\n",
    "import requests"
   ]
  },
  {
   "cell_type": "code",
   "execution_count": null,
   "id": "eb26c55c5c2e9c4f",
   "metadata": {},
   "outputs": [],
   "source": [
    "# 1. Example URL of a public API or data source\n",
    "DATA_URL = \"https://api.portaldatransparencia.gov.br/api/v1/some-dataset\"\n",
    "API_KEY = \"YOUR_API_KEY\"  # Replace with your API key if needed"
   ]
  },
  {
   "cell_type": "code",
   "execution_count": null,
   "id": "3a62ff6dbce0fdbd",
   "metadata": {},
   "outputs": [],
   "source": [
    "# 2. Function to fetch data\n",
    "def fetch_data(url, headers=None):\n",
    "    try:\n",
    "        response = requests.get(url, headers=headers)\n",
    "        response.raise_for_status()  # Raise error if any problem\n",
    "        return pd.DataFrame(response.json())\n",
    "    except Exception as e:\n",
    "        print(f\"Error fetching data: {e}\")\n",
    "        return pd.DataFrame()\n"
   ]
  },
  {
   "cell_type": "code",
   "execution_count": null,
   "id": "9a19fedbfc498e47",
   "metadata": {},
   "outputs": [],
   "source": [
    "# 3. Function to validate the data\n",
    "def validate_data(df):\n",
    "    print(\"\\n===== Data Validation =====\")\n",
    "\n",
    "    # Check dataset size\n",
    "    print(f\"Number of rows: {len(df)}\")\n",
    "\n",
    "    # Check for missing values\n",
    "    missing_values = df.isnull().sum()\n",
    "    print(\"\\nMissing values per column:\")\n",
    "    print(missing_values[missing_values > 0])\n",
    "\n",
    "    # Check for duplicates\n",
    "    duplicates = df.duplicated().sum()\n",
    "    print(f\"\\nDuplicated rows: {duplicates}\")\n",
    "\n",
    "    # Check consistency of numeric fields\n",
    "    numeric_cols = df.select_dtypes(include=['float64', 'int64']).columns\n",
    "    print(\"\\nStatistical summary of numeric fields:\")\n",
    "    print(df[numeric_cols].describe())\n"
   ]
  },
  {
   "cell_type": "code",
   "execution_count": null,
   "id": "94662a8805320a7a",
   "metadata": {},
   "outputs": [],
   "source": [
    "# 4. Function to check last update\n",
    "def check_last_update(df, date_column):\n",
    "    if date_column in df.columns:\n",
    "        df[date_column] = pd.to_datetime(df[date_column], errors='coerce')\n",
    "        last_date = df[date_column].max()\n",
    "        print(f\"\\nLast recorded date: {last_date}\")\n",
    "        if (datetime.now() - last_date).days > 30:\n",
    "            print(\"WARNING: Data may be outdated!\\n\")\n",
    "        else:\n",
    "            print(\"Data is up to date.\\n\")\n",
    "    else:\n",
    "        print(\"Date column not found for validation.\")\n"
   ]
  },
  {
   "cell_type": "code",
   "execution_count": null,
   "id": "16cda881ffd29a4c",
   "metadata": {},
   "outputs": [],
   "source": [
    "# 5. Run everything\n",
    "\n",
    "# Configure API headers if needed\n",
    "headers = {\"Authorization\": f\"Bearer {API_KEY}\"} if API_KEY else None\n",
    "\n",
    "# Download the data\n",
    "print(\"Downloading data...\")\n",
    "data = fetch_data(DATA_URL, headers)\n",
    "\n",
    "if not data.empty:\n",
    "    # Validate the data\n",
    "    validate_data(data)\n",
    "\n",
    "    # Check last update\n",
    "    check_last_update(data, date_column=\"dataAtualizacao\")  # Replace with the actual date column name\n",
    "\n",
    "    # Save data for later use\n",
    "    data.to_csv(\"validated_data.csv\", index=False)\n",
    "    print(\"\\nData saved as 'validated_data.csv'.\")\n",
    "else:\n",
    "    print(\"No data was downloaded.\")\n"
   ]
  }
 ],
 "metadata": {
  "kernelspec": {
   "display_name": "Python (Kubex MLX)",
   "language": "python",
   "name": "venv"
  },
  "language_info": {
   "codemirror_mode": {
    "name": "ipython",
    "version": 3
   },
   "file_extension": ".py",
   "mimetype": "text/x-python",
   "name": "python",
   "nbconvert_exporter": "python",
   "pygments_lexer": "ipython3",
   "version": "3.11.2"
  }
 },
 "nbformat": 4,
 "nbformat_minor": 5
}
