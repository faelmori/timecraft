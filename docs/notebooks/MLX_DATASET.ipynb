{
 "cells": [
  {
   "cell_type": "raw",
   "id": "bd1344806ff1b9a6",
   "metadata": {},
   "source": [
    "from datetime import datetime\n"
   ]
  },
  {
   "cell_type": "code",
   "execution_count": null,
   "id": "c7614231548b7946",
   "metadata": {},
   "outputs": [],
   "source": [
    "import pandas as pd\n",
    "import requests"
   ]
  },
  {
   "cell_type": "code",
   "execution_count": null,
   "id": "eb26c55c5c2e9c4f",
   "metadata": {},
   "outputs": [],
   "source": [
    "# 1. URL de exemplo de uma API ou fonte pública\n",
    "DATA_URL = \"https://api.portaldatransparencia.gov.br/api/v1/some-dataset\"\n",
    "API_KEY = \"SUA_API_KEY\"  # Substitua pela sua chave da API, se necessário"
   ]
  },
  {
   "cell_type": "code",
   "execution_count": null,
   "id": "3a62ff6dbce0fdbd",
   "metadata": {},
   "outputs": [],
   "source": [
    "# 2. Função para baixar os dados\n",
    "def fetch_data(url, headers=None):\n",
    "    try:\n",
    "        response = requests.get(url, headers=headers)\n",
    "        response.raise_for_status()  # Levanta erro se houver problema\n",
    "        return pd.DataFrame(response.json())\n",
    "    except Exception as e:\n",
    "        print(f\"Erro ao buscar os dados: {e}\")\n",
    "        return pd.DataFrame()\n"
   ]
  },
  {
   "cell_type": "code",
   "execution_count": null,
   "id": "9a19fedbfc498e47",
   "metadata": {},
   "outputs": [],
   "source": [
    "# 3. Função para validar os dados\n",
    "def validate_data(df):\n",
    "    print(\"\\n===== Validação de Dados =====\")\n",
    "\n",
    "    # Verificar tamanho do dataset\n",
    "    print(f\"Quantidade de linhas: {len(df)}\")\n",
    "\n",
    "    # Verificar valores ausentes\n",
    "    missing_values = df.isnull().sum()\n",
    "    print(\"\\nValores ausentes por coluna:\")\n",
    "    print(missing_values[missing_values > 0])\n",
    "\n",
    "    # Verificar duplicados\n",
    "    duplicates = df.duplicated().sum()\n",
    "    print(f\"\\nLinhas duplicadas: {duplicates}\")\n",
    "\n",
    "    # Verificar consistência de campos numéricos\n",
    "    numeric_cols = df.select_dtypes(include=['float64', 'int64']).columns\n",
    "    print(\"\\nResumo estatístico de campos numéricos:\")\n",
    "    print(df[numeric_cols].describe())\n"
   ]
  },
  {
   "cell_type": "code",
   "execution_count": null,
   "id": "94662a8805320a7a",
   "metadata": {},
   "outputs": [],
   "source": [
    "# 4. Função para verificar a última atualização\n",
    "def check_last_update(df, date_column):\n",
    "    if date_column in df.columns:\n",
    "        df[date_column] = pd.to_datetime(df[date_column], errors='coerce')\n",
    "        last_date = df[date_column].max()\n",
    "        print(f\"\\nÚltima data registrada: {last_date}\")\n",
    "        if (datetime.now() - last_date).days > 30:\n",
    "            print(\"ALERTA: Dados podem estar desatualizados!\\n\")\n",
    "        else:\n",
    "            print(\"Os dados estão atualizados.\\n\")\n",
    "    else:\n",
    "        print(\"Coluna de data não encontrada para validação.\")\n"
   ]
  },
  {
   "cell_type": "code",
   "execution_count": null,
   "id": "16cda881ffd29a4c",
   "metadata": {},
   "outputs": [],
   "source": [
    "# 5. Executar tudo\n",
    "\n",
    "# Configurar cabeçalhos da API, se necessário\n",
    "headers = {\"Authorization\": f\"Bearer {API_KEY}\"} if API_KEY else None\n",
    "\n",
    "# Baixar os dados\n",
    "print(\"Baixando dados...\")\n",
    "data = fetch_data(DATA_URL, headers)\n",
    "\n",
    "if not data.empty:\n",
    "    # Validar os dados\n",
    "    validate_data(data)\n",
    "\n",
    "    # Verificar a última atualização\n",
    "    check_last_update(data, date_column=\"dataAtualizacao\")  # Substitua pelo nome real da coluna de data\n",
    "\n",
    "    # Salvar dados para uso posterior\n",
    "    data.to_csv(\"dados_validos.csv\", index=False)\n",
    "    print(\"\\nDados salvos como 'dados_validos.csv'.\")\n",
    "else:\n",
    "    print(\"Nenhum dado foi baixado.\")\n"
   ]
  }
 ],
 "metadata": {
  "kernelspec": {
   "display_name": "Python (Kubex MLX)",
   "language": "python",
   "name": "venv"
  },
  "language_info": {
   "codemirror_mode": {
    "name": "ipython",
    "version": 3
   },
   "file_extension": ".py",
   "mimetype": "text/x-python",
   "name": "python",
   "nbconvert_exporter": "python",
   "pygments_lexer": "ipython3",
   "version": "3.11.2"
  }
 },
 "nbformat": 4,
 "nbformat_minor": 5
}
