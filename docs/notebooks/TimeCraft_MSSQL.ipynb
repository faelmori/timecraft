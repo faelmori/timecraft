{
 "cells": [
  {
   "cell_type": "code",
   "execution_count": null,
   "id": "af55f3c6",
   "metadata": {},
   "outputs": [],
   "source": [
    "from concurrent.futures import ProcessPoolExecutor\n",
    "\n",
    "from timecraft_ai import DatabaseConnector\n",
    "from timecraft_ai import TimeCraftModel"
   ]
  },
  {
   "cell_type": "markdown",
   "id": "755cbbff",
   "metadata": {},
   "source": [
    "**Define the function to process a product**"
   ]
  },
  {
   "cell_type": "code",
   "execution_count": null,
   "id": "4476666e",
   "metadata": {},
   "outputs": [],
   "source": [
    "def process_product(product_id):\n",
    "    # Set up the database connector\n",
    "    db_connector = DatabaseConnector(\n",
    "        db_type=\"mssql\",\n",
    "        username=\"sankhya\",\n",
    "        password=\"azsxdc\",\n",
    "        dsn=\"127.0.0.1:1433/sankhya_prod\"\n",
    "    )"
   ]
  },
  {
   "cell_type": "markdown",
   "id": "56c8a751",
   "metadata": {},
   "source": [
    "**Define the SQL query to extract historical stock data**"
   ]
  },
  {
   "cell_type": "code",
   "execution_count": null,
   "id": "4428cfe0",
   "metadata": {},
   "outputs": [],
   "source": [
    "    with open(\"data/PRODUCT_STOCK_HISTORY.sql.j2\", \"r\") as file:\n",
    "        query_template = file.read()"
   ]
  },
  {
   "cell_type": "markdown",
   "id": "fa6ae8ac",
   "metadata": {},
   "source": [
    "**Render the SQL template with the product ID**"
   ]
  },
  {
   "cell_type": "code",
   "execution_count": null,
   "id": "1956756c",
   "metadata": {},
   "outputs": [],
   "source": [
    "    query = query_template.format({\"product_id\": product_id})\n",
    "\n",
    "    ts_model = TimeCraftModel(\n",
    "        db_connector=db_connector,\n",
    "        query=query.replace(\"{ product_id }\", str(product_id)),\n",
    "        date_column=\"DTNEG\",\n",
    "        value_columns=[\"HISTORICAL_STOCK\"],\n",
    "        is_csv=False,\n",
    "        periods=30\n",
    "    )\n",
    "\n",
    "    try:"
   ]
  },
  {
   "cell_type": "markdown",
   "id": "c52df531",
   "metadata": {},
   "source": [
    "**Run the model and generate forecasts**"
   ]
  },
  {
   "cell_type": "code",
   "execution_count": null,
   "id": "f1b55544",
   "metadata": {},
   "outputs": [],
   "source": [
    "ts_model.run()\n",
    "    except Exception as e:\n",
    "        print(f\"Error processing product {product_id}: {e}\")\n",
    "        return None\n",
    "    \n",
    "    print(f\"Forecast for product {product_id} completed.\")"
   ]
  },
  {
   "cell_type": "markdown",
   "id": "57f70a79",
   "metadata": {},
   "source": [
    "**Save forecast results**"
   ]
  },
  {
   "cell_type": "code",
   "execution_count": null,
   "id": "22c895b5",
   "metadata": {},
   "outputs": [],
   "source": [
    "    output_file = f\"output/products_stock/forecast_stock_{product_id}.csv\"\n",
    "    ts_model.save_forecast(output_file)"
   ]
  },
  {
   "cell_type": "markdown",
   "id": "a3d353fe",
   "metadata": {},
   "source": [
    "**Save forecast plots**"
   ]
  },
  {
   "cell_type": "code",
   "execution_count": null,
   "id": "0b0c45fc",
   "metadata": {},
   "outputs": [],
   "source": [
    "    ts_model.save_plots(f\"output/forecast_stock_{product_id}.png\")"
   ]
  },
  {
   "cell_type": "markdown",
   "id": "53a5073a",
   "metadata": {},
   "source": [
    "**Define the function to retrieve product IDs**"
   ]
  },
  {
   "cell_type": "code",
   "execution_count": null,
   "id": "d1ef3d9d",
   "metadata": {},
   "outputs": [],
   "source": [
    "def get_product_ids() -> list:\n",
    "    query_products = \"\"\"\n",
    "    SELECT \n",
    "        P.CODPROD\n",
    "    FROM \n",
    "        TGFPRO P\n",
    "    WHERE \n",
    "        P.ACTIVE = 'Y'\n",
    "        AND P.CODPROD IN (7943, 12614, 5919, 12412, 127977)\n",
    "    \"\"\"\n",
    "    "
   ]
  },
  {
   "cell_type": "markdown",
   "id": "4f123cc9",
   "metadata": {},
   "source": [
    "**Connect to the database**"
   ]
  },
  {
   "cell_type": "code",
   "execution_count": null,
   "id": "7fc9f342",
   "metadata": {},
   "outputs": [],
   "source": [
    "    db_connector = DatabaseConnector(\n",
    "        db_type=\"mssql\",\n",
    "        username=\"sankhya\",\n",
    "        password=\"azsxdc\",\n",
    "        dsn=\"127.0.0.1:1433/sankhya_prod\"\n",
    "    )\n",
    "    db_connector.connect()\n",
    "\n",
    "    try:"
   ]
  },
  {
   "cell_type": "markdown",
   "id": "b5857e51",
   "metadata": {},
   "source": [
    "**Execute the query to fetch product data**"
   ]
  },
  {
   "cell_type": "code",
   "execution_count": null,
   "id": "8d266061",
   "metadata": {},
   "outputs": [],
   "source": [
    "        products_df = db_connector.execute_query(query_products)\n",
    "    except Exception as e:\n",
    "        print(f\"Error retrieving product data: {e}\")\n",
    "        return []\n",
    "\n",
    "    # Close connection\n",
    "    db_connector.close()\n",
    "\n",
    "    # Extract product IDs list\n",
    "    product_ids = products_df[\"CODPROD\"].tolist()\n",
    "    return product_ids"
   ]
  },
  {
   "cell_type": "markdown",
   "id": "b8d850ae",
   "metadata": {},
   "source": [
    "**Process products in parallel**"
   ]
  },
  {
   "cell_type": "code",
   "execution_count": null,
   "id": "bfa44e9a",
   "metadata": {},
   "outputs": [],
   "source": [
    "with ProcessPoolExecutor(max_workers=4) as executor:\n",
    "    executor.map(process_product, product_ids)\n",
    "\n",
    "print(\"Processing completed.\")"
   ]
  },
  {
   "cell_type": "markdown",
   "id": "bcf0d4b4",
   "metadata": {},
   "source": [
    "**End of script**"
   ]
  }
 ]
}
