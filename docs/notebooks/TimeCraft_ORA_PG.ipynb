{
 "cells": [
  {
   "cell_type": "code",
   "execution_count": null,
   "id": "af55f3c6",
   "metadata": {},
   "outputs": [],
   "source": [
    "from concurrent.futures import ProcessPoolExecutor\n",
    "\n",
    "from dbconnect.dbconnector import DatabaseConnector\n",
    "from timeseries.model import TimeSeriesModel"
   ]
  },
  {
   "cell_type": "markdown",
   "id": "755cbbff",
   "metadata": {},
   "source": [
    "**Definir a função para processar um produto**"
   ]
  },
  {
   "cell_type": "code",
   "execution_count": null,
   "id": "4476666e",
   "metadata": {},
   "outputs": [],
   "source": [
    "def process_product(product_id):\n",
    "    # Configurar o conector do banco de dados\n",
    "    db_connector = DatabaseConnector(\n",
    "        db_type=\"postgres\",\n",
    "        username=\"kubex_adm\",\n",
    "        password=\"abcdefg\",\n",
    "        dsn=\"192.168.100.15:5432/kubex_db\"\n",
    "    )"
   ]
  },
  {
   "cell_type": "markdown",
   "id": "56c8a751",
   "metadata": {},
   "source": [
    "**Definir a consulta SQL para extrair dados históricos de estoque**"
   ]
  },
  {
   "cell_type": "code",
   "execution_count": null,
   "id": "4428cfe0",
   "metadata": {},
   "outputs": [],
   "source": [
    "    with open(\"data/CLI_X_PROD_CLI_SALE.sql.j2\", \"r\") as file:\n",
    "        query_template = file.read()"
   ]
  },
  {
   "cell_type": "markdown",
   "id": "fa6ae8ac",
   "metadata": {},
   "source": [
    "**    **Renderiza o template com o ID do produto**"
   ]
  },
  {
   "cell_type": "code",
   "execution_count": null,
   "id": "1956756c",
   "metadata": {},
   "outputs": [],
   "source": [
    "    query = query_template.format({\"product_id\": product_id})\n",
    "\n",
    "    ts_model = TimeSeriesModel(\n",
    "        db_connector=db_connector,\n",
    "        query=query.replace(\"{ product_id }\", str(product_id)),\n",
    "        date_column=\"DTNEG\",\n",
    "        value_columns=[\"SALDO_HISTORICO\"],\n",
    "        is_csv=False,\n",
    "        periods=30\n",
    "    )\n",
    "\n",
    "    try:"
   ]
  },
  {
   "cell_type": "markdown",
   "id": "c52df531",
   "metadata": {},
   "source": [
    "**        **Executar o modelo e gerar previsões**"
   ]
  },
  {
   "cell_type": "code",
   "execution_count": null,
   "id": "f1b55544",
   "metadata": {},
   "outputs": [],
   "source": [
    "        ts_model.run()\n",
    "        # forecast = ts_model.get_forecast()\n",
    "    except Exception as e:\n",
    "        print(f\"Erro ao processar o produto {product_id}: {e}\")\n",
    "        return None\n",
    "    \n",
    "    print(f\"Previsão para o produto {product_id} concluída.\")\n",
    "    # print(forecast)"
   ]
  },
  {
   "cell_type": "markdown",
   "id": "57f70a79",
   "metadata": {},
   "source": [
    "**    **Salvar previsões**"
   ]
  },
  {
   "cell_type": "code",
   "execution_count": null,
   "id": "22c895b5",
   "metadata": {},
   "outputs": [],
   "source": [
    "    output_file = f\"output/products_stock/forecast_estoque_{product_id}.csv\"\n",
    "    ts_model.save_forecast(output_file)"
   ]
  },
  {
   "cell_type": "markdown",
   "id": "a3d353fe",
   "metadata": {},
   "source": [
    "**    **Plotar previsões**"
   ]
  },
  {
   "cell_type": "code",
   "execution_count": null,
   "id": "0b0c45fc",
   "metadata": {},
   "outputs": [],
   "source": [
    "    # ts_model.plot_forecast()\n",
    "    ts_model.save_plots(f\"output/forecast_estoque_{product_id}.png\")"
   ]
  },
  {
   "cell_type": "markdown",
   "id": "53a5073a",
   "metadata": {},
   "source": [
    "** **Definir a função para obter IDs dos produtos**"
   ]
  },
  {
   "cell_type": "code",
   "execution_count": null,
   "id": "d1ef3d9d",
   "metadata": {},
   "outputs": [],
   "source": [
    "def get_product_ids() -> list:\n",
    "    query_products = \"\"\"\n",
    "    SELECT \n",
    "        P.CODPROD\n",
    "    FROM \n",
    "        TGFPRO P\n",
    "    WHERE \n",
    "        P.USOPROD = 'R'\n",
    "        AND P.ATIVO = 'S'\n",
    "        AND P.CODPROD IN(1,2,3,4,5,6,7,8,9,10)\n",
    "    \"\"\"\n",
    "\n",
    "    "
   ]
  },
  {
   "cell_type": "markdown",
   "id": "4f123cc9",
   "metadata": {},
   "source": [
    "** **Conectar ao banco de dados**"
   ]
  },
  {
   "cell_type": "code",
   "execution_count": null,
   "id": "7fc9f342",
   "metadata": {},
   "outputs": [],
   "source": [
    "    db_connector = DatabaseConnector(\n",
    "        db_type=\"oracle\",\n",
    "        username=\"sankhya\",\n",
    "        password=\"abcdefg\",\n",
    "        dsn=\"127.0.0.1:1521/orcl\"\n",
    "    )\n",
    "    db_connector.connect()\n",
    "\n",
    "    try:"
   ]
  },
  {
   "cell_type": "markdown",
   "id": "b5857e51",
   "metadata": {},
   "source": [
    "**        **Consultar a lista de produtos**"
   ]
  },
  {
   "cell_type": "code",
   "execution_count": null,
   "id": "8d266061",
   "metadata": {},
   "outputs": [],
   "source": [
    "        products_df = db_connector.execute_query(query_products)\n",
    "    except Exception as e:\n",
    "        print(f\"Erro ao consultar produtos: {e}\")\n",
    "        return []\n",
    "\n",
    "    # Fechar a conexão\n",
    "    db_connector.close()\n",
    "\n",
    "    # Lista de IDs dos produtos\n",
    "    product_ids = products_df[\"CODPROD\"].tolist()\n",
    "\n",
    "    return product_ids"
   ]
  },
  {
   "cell_type": "markdown",
   "id": "b8d850ae",
   "metadata": {},
   "source": [
    "**Obter IDs dos produtos**"
   ]
  },
  {
   "cell_type": "code",
   "execution_count": null,
   "id": "45b20377",
   "metadata": {},
   "outputs": [],
   "source": [
    "product_ids = get_product_ids()"
   ]
  },
  {
   "cell_type": "markdown",
   "id": "ed57ade1",
   "metadata": {},
   "source": [
    "**Processar produtos em paralelo**"
   ]
  },
  {
   "cell_type": "code",
   "execution_count": null,
   "id": "bfa44e9a",
   "metadata": {},
   "outputs": [],
   "source": [
    "with ProcessPoolExecutor(max_workers=4) as executor:\n",
    "    executor.map(process_product, product_ids)\n",
    "\n",
    "print(\"Processamento concluído.\")"
   ]
  },
  {
   "cell_type": "markdown",
   "id": "bcf0d4b4",
   "metadata": {},
   "source": [
    "**Fim do script**"
   ]
  }
 ],
 "metadata": {
  "kernelspec": {
   "display_name": "Python (Kubex MLX)",
   "language": "python",
   "name": "venv"
  },
  "language_info": {
   "codemirror_mode": {
    "name": "ipython",
    "version": 3
   },
   "file_extension": ".py",
   "mimetype": "text/x-python",
   "name": "python",
   "nbconvert_exporter": "python",
   "pygments_lexer": "ipython3",
   "version": "3.11.2"
  }
 },
 "nbformat": 4,
 "nbformat_minor": 5
}
