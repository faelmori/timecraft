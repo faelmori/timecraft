{
 "cells": [
  {
   "cell_type": "code",
   "execution_count": null,
   "id": "3663f76df7d015f0",
   "metadata": {},
   "outputs": [],
   "source": [
    "#!/bin/python3\n",
    "import concurrent.futures\n",
    "\n",
    "import requests\n",
    "\n",
    "i = 0"
   ]
  },
  {
   "cell_type": "markdown",
   "id": "10ad2d33b74a5220",
   "metadata": {},
   "source": [
    "**Função que simula um processamento pesado**"
   ]
  },
  {
   "cell_type": "code",
   "execution_count": null,
   "id": "22eac8dc344df1dc",
   "metadata": {},
   "outputs": [],
   "source": [
    "def carregar_lista_sites():\n",
    "    return [\n",
    "        \"https://www.google.com\",\n",
    "        \"https://www.github.com\",\n",
    "        \"https://www.openai.com\",\n",
    "        \"https://www.exemplo-invalido.com\"\n",
    "    ]"
   ]
  },
  {
   "cell_type": "markdown",
   "id": "cd0536007d124a9d",
   "metadata": {},
   "source": [
    "**Função que verifica se um site está online**"
   ]
  },
  {
   "cell_type": "code",
   "execution_count": null,
   "id": "d910612b3c4501df",
   "metadata": {},
   "outputs": [],
   "source": [
    "def verificar_site(url):\n",
    "    try:\n",
    "        response = requests.get(url, timeout=10)\n",
    "        print(f\"[SUCESSO] {url} - Status: {response.status_code}\")\n",
    "    except Exception as e:\n",
    "        print(f\"[ERRO] {url} - Motivo: {str(e)}\")"
   ]
  },
  {
   "cell_type": "markdown",
   "id": "9423fb57a9bdab12",
   "metadata": {},
   "source": [
    "**Função principal**"
   ]
  },
  {
   "cell_type": "code",
   "execution_count": null,
   "id": "9660d019ccec4b2c",
   "metadata": {},
   "outputs": [],
   "source": [
    "def main():\n",
    "    lista_sites = carregar_lista_sites()\n",
    "\n",
    "    with concurrent.futures.ThreadPoolExecutor(max_workers=len(lista_sites)) as executor:\n",
    "        executor.map(verificar_site, lista_sites)"
   ]
  },
  {
   "cell_type": "markdown",
   "id": "1445774d28c4580e",
   "metadata": {},
   "source": [
    "**Execução do programa**"
   ]
  },
  {
   "cell_type": "code",
   "execution_count": null,
   "id": "522bd4fd6b76641e",
   "metadata": {},
   "outputs": [],
   "source": [
    "if __name__ == \"__main__\":\n",
    "    main()"
   ]
  },
  {
   "cell_type": "code",
   "execution_count": 15,
   "id": "76c67c83",
   "metadata": {},
   "outputs": [
    {
     "name": "stdout",
     "output_type": "stream",
     "text": [
      "[ERRO] https://www.exemplo-invalido.com - Motivo: HTTPSConnectionPool(host='www.exemplo-invalido.com', port=443): Max retries exceeded with url: / (Caused by NewConnectionError('<urllib3.connection.HTTPSConnection object at 0x75939a9f8c90>: Failed to establish a new connection: [Errno -2] Name or service not known'))\n",
      "[SUCESSO] https://www.openai.com - Status: 403\n",
      "[SUCESSO] https://www.github.com - Status: 200\n",
      "[SUCESSO] https://www.google.com - Status: 200\n"
     ]
    }
   ],
   "source": []
  },
  {
   "cell_type": "code",
   "execution_count": null,
   "id": "18be8664",
   "metadata": {},
   "outputs": [],
   "source": []
  }
 ],
 "metadata": {
  "kernelspec": {
   "display_name": "Python (Kubex MLX)",
   "language": "python",
   "name": "venv"
  },
  "language_info": {
   "codemirror_mode": {
    "name": "ipython",
    "version": 3
   },
   "file_extension": ".py",
   "mimetype": "text/x-python",
   "name": "python",
   "nbconvert_exporter": "python",
   "pygments_lexer": "ipython3",
   "version": "3.11.2"
  },
  "widgets": {
   "application/vnd.jupyter.widget-state+json": {
    "state": {},
    "version_major": 1,
    "version_minor": 0
   }
  }
 },
 "nbformat": 4,
 "nbformat_minor": 5
}
